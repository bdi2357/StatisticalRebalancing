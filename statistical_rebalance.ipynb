{
  "nbformat": 4,
  "nbformat_minor": 0,
  "metadata": {
    "colab": {
      "provenance": [],
      "authorship_tag": "ABX9TyPyqFiaRY6C2RcW9khWAiAw",
      "include_colab_link": true
    },
    "kernelspec": {
      "name": "python3",
      "display_name": "Python 3"
    },
    "language_info": {
      "name": "python"
    }
  },
  "cells": [
    {
      "cell_type": "markdown",
      "metadata": {
        "id": "view-in-github",
        "colab_type": "text"
      },
      "source": [
        "<a href=\"https://colab.research.google.com/github/bdi2357/StatisticalRebalancing/blob/main/statistical_rebalance.ipynb\" target=\"_parent\"><img src=\"https://colab.research.google.com/assets/colab-badge.svg\" alt=\"Open In Colab\"/></a>"
      ]
    },
    {
      "cell_type": "code",
      "execution_count": null,
      "metadata": {
        "id": "yz8lW2nY73Nj"
      },
      "outputs": [],
      "source": [
        "import numpy as np\n",
        "import pandas as pd\n",
        "from sklearn.linear_model import LogisticRegression\n",
        "from sklearn.model_selection import train_test_split\n",
        "from sklearn.utils import resample\n",
        "from imblearn.over_sampling import SMOTE\n",
        "\n",
        "def statistical_rebalance(data, target_name, classifier, threshold=0.5, margin = 0.1):\n",
        "    X = data.drop(target_name, axis=1)\n",
        "    y = data[target_name]\n",
        "\n",
        "    # Split data into training and test sets\n",
        "    X_train, X_test, y_train, y_test = train_test_split(X, y, test_size=0.3, random_state=42)\n",
        "\n",
        "    # Train the classifier\n",
        "    classifier.fit(X_train, y_train)\n",
        "\n",
        "    # Predict probabilities for the minority class\n",
        "    probs = classifier.predict_proba(X_train)[:, 1]\n",
        "\n",
        "    # Define the threshold for rebalancing\n",
        "    boundary_mask = (probs > (threshold - margin )) & (probs < (threshold + margin ))\n",
        "\n",
        "    # Apply SMOTE to instances near the decision boundary\n",
        "    smote = SMOTE(sampling_strategy='minority', random_state=42)\n",
        "    X_resampled, y_resampled = smote.fit_resample(X_train[boundary_mask], y_train[boundary_mask])\n",
        "\n",
        "    # Combine the original and synthetic samples\n",
        "    X_train_balanced = np.vstack([X_train, X_resampled])\n",
        "    y_train_balanced = np.hstack([y_train, y_resampled])\n",
        "\n",
        "    # Retrain the model on the balanced dataset\n",
        "    classifier.fit(X_train_balanced, y_train_balanced)\n",
        "\n",
        "    return classifier, X_train_balanced, y_train_balanced\n",
        "\n",
        "\n"
      ]
    }
  ]
}